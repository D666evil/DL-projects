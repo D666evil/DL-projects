{
 "cells": [
  {
   "cell_type": "code",
   "execution_count": 1,
   "id": "4e2317a4",
   "metadata": {
    "execution": {
     "iopub.execute_input": "2024-06-23T16:32:19.802266Z",
     "iopub.status.busy": "2024-06-23T16:32:19.801136Z",
     "iopub.status.idle": "2024-06-23T16:32:23.878997Z",
     "shell.execute_reply": "2024-06-23T16:32:23.877623Z"
    },
    "papermill": {
     "duration": 4.086737,
     "end_time": "2024-06-23T16:32:23.881952",
     "exception": false,
     "start_time": "2024-06-23T16:32:19.795215",
     "status": "completed"
    },
    "tags": []
   },
   "outputs": [],
   "source": [
    "import pandas as pd\n",
    "from sklearn.feature_extraction.text import TfidfVectorizer\n",
    "from sklearn.metrics.pairwise import cosine_similarity\n",
    "\n",
    "df = pd.read_csv('/kaggle/input/tmdb-movie-metadata/tmdb_5000_movies.csv')\n",
    "\n",
    "features = ['id', 'title', 'genres', 'keywords', 'popularity']\n",
    "\n",
    "df = df[features].dropna()\n",
    "\n",
    "df['genres'] = df['genres'].apply(lambda x: ' '.join([genre['name'] for genre in eval(x)]))\n",
    "df['keywords'] = df['keywords'].apply(lambda x: ' '.join([keyword['name'] for keyword in eval(x)]))\n",
    "\n",
    "tfidf = TfidfVectorizer(stop_words='english')\n",
    "tfidf_matrix = tfidf.fit_transform(df['genres'] + ' ' + df['keywords'])\n",
    "\n",
    "cosine_sim = cosine_similarity(tfidf_matrix, tfidf_matrix)\n",
    "\n",
    "def recommend_movies(title, cosine_sim=cosine_sim, df=df):\n",
    "    \n",
    "    idx = df[df['title'] == title].index[0]\n",
    "    \n",
    "    sim_scores = list(enumerate(cosine_sim[idx]))\n",
    "    \n",
    "    \n",
    "    sim_scores = sorted(sim_scores, key=lambda x: x[1], reverse=True)\n",
    "    \n",
    "    \n",
    "    sim_scores = sim_scores[1:11] \n",
    "    \n",
    "    movie_indices = [i[0] for i in sim_scores]\n",
    "    \n",
    "    return df['title'].iloc[movie_indices]\n"
   ]
  },
  {
   "cell_type": "code",
   "execution_count": 2,
   "id": "4329c04b",
   "metadata": {
    "execution": {
     "iopub.execute_input": "2024-06-23T16:32:23.888809Z",
     "iopub.status.busy": "2024-06-23T16:32:23.888013Z",
     "iopub.status.idle": "2024-06-23T16:32:23.904480Z",
     "shell.execute_reply": "2024-06-23T16:32:23.902946Z"
    },
    "papermill": {
     "duration": 0.02255,
     "end_time": "2024-06-23T16:32:23.907084",
     "exception": false,
     "start_time": "2024-06-23T16:32:23.884534",
     "status": "completed"
    },
    "tags": []
   },
   "outputs": [
    {
     "name": "stdout",
     "output_type": "stream",
     "text": [
      "Recommended movies for 'Gravity':\n",
      "1473         The Astronaut's Wife\n",
      "1951                   Space Dogs\n",
      "373               Mission to Mars\n",
      "1650               Wing Commander\n",
      "4332               Silent Running\n",
      "4108    In the Shadow of the Moon\n",
      "1531                    Moonraker\n",
      "1354                 Space Chimps\n",
      "2966        2001: A Space Odyssey\n",
      "3158                        Alien\n",
      "Name: title, dtype: object\n"
     ]
    }
   ],
   "source": [
    "movie_title = 'Gravity'\n",
    "recommendations = recommend_movies(movie_title)\n",
    "print(f\"Recommended movies for '{movie_title}':\")\n",
    "print(recommendations)"
   ]
  }
 ],
 "metadata": {
  "kaggle": {
   "accelerator": "none",
   "dataSources": [
    {
     "datasetId": 138,
     "sourceId": 4508,
     "sourceType": "datasetVersion"
    }
   ],
   "dockerImageVersionId": 30732,
   "isGpuEnabled": false,
   "isInternetEnabled": true,
   "language": "python",
   "sourceType": "notebook"
  },
  "kernelspec": {
   "display_name": "Python 3",
   "language": "python",
   "name": "python3"
  },
  "language_info": {
   "codemirror_mode": {
    "name": "ipython",
    "version": 3
   },
   "file_extension": ".py",
   "mimetype": "text/x-python",
   "name": "python",
   "nbconvert_exporter": "python",
   "pygments_lexer": "ipython3",
   "version": "3.10.13"
  },
  "papermill": {
   "default_parameters": {},
   "duration": 7.91528,
   "end_time": "2024-06-23T16:32:24.632282",
   "environment_variables": {},
   "exception": null,
   "input_path": "__notebook__.ipynb",
   "output_path": "__notebook__.ipynb",
   "parameters": {},
   "start_time": "2024-06-23T16:32:16.717002",
   "version": "2.5.0"
  }
 },
 "nbformat": 4,
 "nbformat_minor": 5
}
